{
 "cells": [
  {
   "cell_type": "markdown",
   "id": "38eda6df-ef5a-41f8-93bc-cdab405a1e63",
   "metadata": {},
   "source": [
    "# Einfache Suche nach Zahlen"
   ]
  },
  {
   "cell_type": "code",
   "execution_count": 2,
   "id": "e01dde22-cb65-465f-94c4-e0e97979ae20",
   "metadata": {},
   "outputs": [
    {
     "name": "stdout",
     "output_type": "stream",
     "text": [
      "['5']\n"
     ]
    }
   ],
   "source": [
    "import re\n",
    "\n",
    "p = re.compile(\"5\")\n",
    "print(p.findall(\"Für 5 Semmeln habe ich 3.90€ bezahlt.\"))"
   ]
  },
  {
   "cell_type": "code",
   "execution_count": 5,
   "id": "b6ca45aa-0431-40b0-bcd6-233367e986e0",
   "metadata": {},
   "outputs": [
    {
     "name": "stdout",
     "output_type": "stream",
     "text": [
      "['5', '3', '9', '0']\n"
     ]
    }
   ],
   "source": [
    "p = re.compile(\"[1234567890]\")\n",
    "print(p.findall(\"Für 5 Semmeln habe ich 3.90€ bezahlt.\"))"
   ]
  },
  {
   "cell_type": "code",
   "execution_count": 7,
   "id": "ca57f099-620f-482e-9faf-b03a6775628c",
   "metadata": {},
   "outputs": [
    {
     "name": "stdout",
     "output_type": "stream",
     "text": [
      "['5', '3', '9', '0']\n"
     ]
    }
   ],
   "source": [
    "p = re.compile(\"[0-9]\")\n",
    "print(p.findall(\"Für 5 Semmeln habe ich 3.90€ bezahlt.\"))"
   ]
  },
  {
   "cell_type": "code",
   "execution_count": 11,
   "id": "c0ff82f5-4287-4bf0-a302-cd63a8933676",
   "metadata": {},
   "outputs": [
    {
     "name": "stdout",
     "output_type": "stream",
     "text": [
      "[' 5 ']\n"
     ]
    }
   ],
   "source": [
    "p = re.compile(\" [0-9] \")\n",
    "print(p.findall(\"Für 5 Semmeln habe ich 3.90€ bezahlt.\"))"
   ]
  },
  {
   "cell_type": "code",
   "execution_count": 23,
   "id": "b75d6f5e-e9cf-452d-adaf-a7c3e11479e8",
   "metadata": {},
   "outputs": [
    {
     "name": "stdout",
     "output_type": "stream",
     "text": [
      "['3.90']\n"
     ]
    }
   ],
   "source": [
    "p = re.compile(\"[0-9]\\\\.[0-9][0-9]\")\n",
    "print(p.findall(\"Für 5 Semmeln habe ich 3.90€ bezahlt.\"))"
   ]
  },
  {
   "cell_type": "code",
   "execution_count": 86,
   "id": "0483322f-d2bd-4c87-aa09-313d6f9e664b",
   "metadata": {},
   "outputs": [
    {
     "name": "stdout",
     "output_type": "stream",
     "text": [
      "['3.90€']\n",
      "['3.90$']\n"
     ]
    }
   ],
   "source": [
    "p = re.compile(\"[0-9]\\\\.[0-9][0-9][€$]\")\n",
    "print(p.findall(\"Für 5 Semmeln habe ich 3.90€ bezahlt.\"))\n",
    "print(p.findall(\"Für 5 Semmeln habe ich 3.90$ bezahlt.\"))"
   ]
  },
  {
   "cell_type": "code",
   "execution_count": 15,
   "id": "52d1b6b8-bacf-4358-8016-b2daa2a0db80",
   "metadata": {},
   "outputs": [
    {
     "name": "stdout",
     "output_type": "stream",
     "text": [
      "[' 5 ']\n",
      "[]\n",
      "[]\n"
     ]
    }
   ],
   "source": [
    "p = re.compile(\" [0-9] \")\n",
    "print(p.findall(\"Für 5 Semmeln habe ich 3.90€ bezahlt.\"))\n",
    "print(p.findall(\"Für 15 Semmeln habe ich 19.50€ bezahlt.\"))\n",
    "print(p.findall(\"Für 150 Semmeln habe ich 195.00€ bezahlt.\"))"
   ]
  },
  {
   "cell_type": "code",
   "execution_count": 19,
   "id": "d78839c5-bf48-4509-ad86-0da54c1938ad",
   "metadata": {},
   "outputs": [
    {
     "name": "stdout",
     "output_type": "stream",
     "text": [
      "[]\n",
      "[]\n",
      "[' 150 ']\n"
     ]
    }
   ],
   "source": [
    "p = re.compile(\" [0-9][0-9][0-9] \")\n",
    "print(p.findall(\"Für 5 Semmeln habe ich 3.90€ bezahlt.\"))\n",
    "print(p.findall(\"Für 15 Semmeln habe ich 19.50€ bezahlt.\"))\n",
    "print(p.findall(\"Für 150 Semmeln habe ich 195.00€ bezahlt.\"))"
   ]
  },
  {
   "cell_type": "code",
   "execution_count": 21,
   "id": "dc00db83-c474-46fb-b932-f9d84f82b67c",
   "metadata": {},
   "outputs": [
    {
     "name": "stdout",
     "output_type": "stream",
     "text": [
      "[' 5 ']\n",
      "[' 15 ']\n",
      "[' 150 ']\n"
     ]
    }
   ],
   "source": [
    "p = re.compile(\" [0-9]+ \")\n",
    "print(p.findall(\"Für 5 Semmeln habe ich 3.90€ bezahlt.\"))\n",
    "print(p.findall(\"Für 15 Semmeln habe ich 19.50€ bezahlt.\"))\n",
    "print(p.findall(\"Für 150 Semmeln habe ich 195.00€ bezahlt.\"))"
   ]
  },
  {
   "cell_type": "code",
   "execution_count": 33,
   "id": "8b620248-744a-4d11-aab2-034002cee50f",
   "metadata": {},
   "outputs": [
    {
     "name": "stdout",
     "output_type": "stream",
     "text": [
      "[' 3.90€ ']\n",
      "[' 19.50$ ']\n",
      "[' 195.00$ ']\n"
     ]
    }
   ],
   "source": [
    "p = re.compile(\" [0-9]+\\\\.[0-9][0-9][€$] \")\n",
    "print(p.findall(\"Für 5 Semmeln habe ich 3.90€ bezahlt.\"))\n",
    "print(p.findall(\"Für 15 Semmeln habe ich 19.50$ bezahlt.\"))\n",
    "print(p.findall(\"Für 150 Semmeln habe ich 195.00$ bezahlt.\"))"
   ]
  },
  {
   "cell_type": "code",
   "execution_count": 35,
   "id": "4e7a92ac-6b0c-43f7-9659-a799da74fef2",
   "metadata": {},
   "outputs": [
    {
     "name": "stdout",
     "output_type": "stream",
     "text": [
      "[' 3.90€ ']\n",
      "[' 19.50$ ']\n",
      "[' 195.00$ ']\n"
     ]
    }
   ],
   "source": [
    "p = re.compile(\" [0-9]+\\\\.[0-9]{2}[€$] \")\n",
    "print(p.findall(\"Für 5 Semmeln habe ich 3.90€ bezahlt.\"))\n",
    "print(p.findall(\"Für 15 Semmeln habe ich 19.50$ bezahlt.\"))\n",
    "print(p.findall(\"Für 150 Semmeln habe ich 195.00$ bezahlt.\"))"
   ]
  },
  {
   "cell_type": "code",
   "execution_count": 83,
   "id": "6e32e704-4de3-4b7c-8912-f484e003cdb6",
   "metadata": {},
   "outputs": [
    {
     "name": "stdout",
     "output_type": "stream",
     "text": [
      "[' 3.90€ ']\n",
      "[' 19.50$ ']\n",
      "[' 190,50 ']\n"
     ]
    }
   ],
   "source": [
    "p = re.compile(\" [0-9]+[.,][0-9]{2}[€$]? \")\n",
    "print(p.findall(\"Für 5 Semmeln habe ich 3.90€ bezahlt.\"))\n",
    "print(p.findall(\"Für 15 Semmeln habe ich 19.50$ bezahlt.\"))\n",
    "print(p.findall(\"Für 150 Semmeln habe ich 190,50 bezahlt.\")) "
   ]
  },
  {
   "cell_type": "markdown",
   "id": "eb8e41ed-dc1a-4cb1-bc47-0fc1c57743d3",
   "metadata": {},
   "source": [
    "# Suche nach einem String"
   ]
  },
  {
   "cell_type": "markdown",
   "id": "666cf8d8-11ba-4ffa-96cd-fbbc602f8a60",
   "metadata": {},
   "source": [
    "### 3.6"
   ]
  },
  {
   "cell_type": "code",
   "execution_count": 111,
   "id": "2f0da61f-5738-4eff-8f42-6ba7becfef18",
   "metadata": {},
   "outputs": [
    {
     "name": "stdout",
     "output_type": "stream",
     "text": [
      "['office@htlkrems.at']\n"
     ]
    }
   ],
   "source": [
    "# Bibliotheken laden\n",
    "import urllib.request as urllib2\n",
    "from bs4 import BeautifulSoup\n",
    "import csv\n",
    "\n",
    "# Website laden\n",
    "response = urllib2.urlopen('https://www.htlkrems.ac.at')\n",
    "html_doc = response.read()\n",
    "\n",
    "# Das BeautifulSoup Object soup repräsentiert das „geparste“ HTML-Dokument\n",
    "soup = BeautifulSoup(html_doc, 'html.parser')\n",
    "\n",
    "# Das „geparste“ HTML-Dokument formatieren, sodass jeder Tag bzw. Textblock\n",
    "# in einer separaten Zeile ausgegeben wird\n",
    "strhtm = soup.prettify()\n",
    "\n",
    "p = re.compile(\"\\\\w+@\\\\w+\\\\.at\")\n",
    "email = (p.findall(strhtm))\n",
    "\n",
    "with open('email.csv', mode='w', newline='') as file:\n",
    "    csvwriter = csv.writer(file)\n",
    "    csvwriter.writerow([\"Email\"])\n",
    "    csvwriter.writerow(email)\n",
    "\n",
    "print(email)"
   ]
  },
  {
   "cell_type": "markdown",
   "id": "02463d28-c9d6-4421-9bef-99998bce8655",
   "metadata": {},
   "source": [
    "### 3.7"
   ]
  },
  {
   "cell_type": "code",
   "execution_count": 1,
   "id": "d24d81d8-46a1-44c4-87ca-086866b45dcb",
   "metadata": {},
   "outputs": [
    {
     "name": "stdout",
     "output_type": "stream",
     "text": [
      "Anbieter: KASTNER Service GesmbH\n",
      "Beschreibung: Junior SoftwareentwicklerIn\n",
      "Link: https://www.htlkrems.ac.at/wp-content/uploads/2024/10/KASTNER-Service-GesmbH_Junior-SoftwareentwicklerIn.pdf\n",
      "Bereich: IT\n",
      "Online seit: 2024/10\n",
      "\n",
      "Anbieter: XINGER SOLUTIONS\n",
      "Beschreibung: Java -script EntwicklerIn\n",
      "Link: https://www.htlkrems.ac.at/wp-content/uploads/2024/09/XINGER-SOLUTIONS_Java-script-EntwicklerIn.pdf\n",
      "Bereich: IT\n",
      "Online seit: 2024/09\n",
      "\n",
      "Anbieter: Quality Software & Consulting GmbH & Co KG\n",
      "Beschreibung: Frontend Developer Web Mobile Desktop\n",
      "Link: https://www.htlkrems.ac.at/wp-content/uploads/2024/09/Quality-Software-Consulting-GmbH-Co-KG_Frontend-Developer-Web-Mobile-Desktop.pdf\n",
      "Bereich: IT\n",
      "Online seit: 2024/09\n",
      "\n",
      "Anbieter: Quality Software & Consulting GmbH & Co KG\n",
      "Beschreibung: Software EntwicklerIn JAVA.NET\n",
      "Link: https://www.htlkrems.ac.at/wp-content/uploads/2024/09/Quality-Software-Consulting-GmbH-Co-KG_Software-EntwicklerIn-JAVA.NET-.pdf\n",
      "Bereich: IT\n",
      "Online seit: 2024/09\n",
      "\n",
      "Anbieter: X-WORKS GmbH\n",
      "Beschreibung: Software-EntwicklerIn\n",
      "Link: https://www.htlkrems.ac.at/wp-content/uploads/2024/08/X-WORKS-GmbH_Software-EntwicklerIn.pdf\n",
      "Bereich: IT\n",
      "Online seit: 2024/08\n",
      "\n"
     ]
    }
   ],
   "source": [
    "# IT-Jobs sammeln\n",
    "#3.7\n",
    "import urllib.request as urllib2\n",
    "from bs4 import BeautifulSoup\n",
    "\n",
    "# URL der HTL Krems Job-Seite\n",
    "url = \"https://www.htlkrems.ac.at/jobs/\"\n",
    "\n",
    "# Webseite abrufen\n",
    "response = urllib2.urlopen(url)\n",
    "html_content = response.read()\n",
    "\n",
    "# HTML-Inhalt mit BeautifulSoup parsen\n",
    "soup = BeautifulSoup(html_content, 'html.parser')\n",
    "\n",
    "# Tabelle mit den Jobangeboten finden\n",
    "table = soup.find('table', {'id': 'tablepress-3'})\n",
    "\n",
    "# Liste von Schlüsselwörtern\n",
    "keywords = ['Developer', 'Entwickler', 'Entwicklung', 'Softwareentwickler', 'Programmierer']\n",
    "\n",
    "# IT-relevante Jobangebote sammeln\n",
    "it_jobs = []\n",
    "\n",
    "# Alle Zeilen der Tabelle (außer der Header-Zeile) finden\n",
    "rows = table.find_all('tr')[1:]\n",
    "\n",
    "# Über alle Zeilen iterieren\n",
    "for row in rows:\n",
    "    columns = [col.text.strip() for col in row.find_all('td')]  # Spalten extrahieren\n",
    "\n",
    "    # Überprüfen, ob die Beschreibung eines der Schlüsselwörter enthält\n",
    "    if any(keyword in columns[1] for keyword in keywords):  # columns[1] ist die Beschreibung\n",
    "        it_jobs.append({\n",
    "            'Anbieter': columns[0],\n",
    "            'Beschreibung': columns[1],\n",
    "            'Link': row.find('a')['href'],  # Den Link aus dem <a>-Tag extrahieren\n",
    "            'Bereich': columns[2],\n",
    "            'Online seit': columns[3]\n",
    "        })\n",
    "\n",
    "# Ausgabe der IT-relevanten Jobangebote\n",
    "for job in it_jobs:\n",
    "    print(f\"Anbieter: {job['Anbieter']}\")\n",
    "    print(f\"Beschreibung: {job['Beschreibung']}\")\n",
    "    print(f\"Link: {job['Link']}\")\n",
    "    print(f\"Bereich: {job['Bereich']}\")\n",
    "    print(f\"Online seit: {job['Online seit']}\")\n",
    "    print()  # Leerzeile für bessere Lesbarkeit"
   ]
  },
  {
   "cell_type": "code",
   "execution_count": 3,
   "id": "d00332bc-787e-4a16-a9b3-7bb7e96c2407",
   "metadata": {},
   "outputs": [
    {
     "name": "stdout",
     "output_type": "stream",
     "text": [
      "Die Daten wurden erfolgreich in 'it_jobs.csv' gespeichert.\n"
     ]
    }
   ],
   "source": [
    "# CSV-Datei erstellen und schreiben\n",
    "import csv\n",
    "with open('it_jobs.csv', mode='w', newline='', encoding='utf-8') as file:\n",
    "    writer = csv.writer(file)\n",
    "    # Header schreiben\n",
    "    writer.writerow(['Anbieter', 'Beschreibung', 'Link', 'Bereich', 'Online seit'])\n",
    "    \n",
    "    # Daten schreiben\n",
    "    for job in it_jobs:\n",
    "        writer.writerow([job['Anbieter'], job['Beschreibung'], job['Link'], job['Bereich'], job['Online seit']])\n",
    "\n",
    "print(\"Die Daten wurden erfolgreich in 'it_jobs.csv' gespeichert.\")"
   ]
  }
 ],
 "metadata": {
  "kernelspec": {
   "display_name": "Python 3 (ipykernel)",
   "language": "python",
   "name": "python3"
  },
  "language_info": {
   "codemirror_mode": {
    "name": "ipython",
    "version": 3
   },
   "file_extension": ".py",
   "mimetype": "text/x-python",
   "name": "python",
   "nbconvert_exporter": "python",
   "pygments_lexer": "ipython3",
   "version": "3.12.4"
  }
 },
 "nbformat": 4,
 "nbformat_minor": 5
}
