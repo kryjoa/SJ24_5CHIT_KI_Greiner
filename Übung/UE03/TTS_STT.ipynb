{
 "cells": [
  {
   "cell_type": "code",
   "execution_count": 4,
   "id": "7e690274-d8b4-4f4e-b829-216c56727220",
   "metadata": {},
   "outputs": [],
   "source": [
    "from gtts import gTTS "
   ]
  },
  {
   "cell_type": "code",
   "execution_count": 8,
   "id": "5d5c29fc-a1f2-4a2b-b232-2000a79c6093",
   "metadata": {},
   "outputs": [],
   "source": [
    "tts = gTTS(text='I mag NLP und vor allem Herrn Brunner', lang='de', slow=False) \n",
    "tts.save(\"audio.mp3\") "
   ]
  },
  {
   "cell_type": "code",
   "execution_count": 17,
   "id": "45f48c31-23a9-4eaf-ae4d-fdd978a8fa97",
   "metadata": {},
   "outputs": [
    {
     "name": "stdout",
     "output_type": "stream",
     "text": [
      "Please say something\n",
      "Time over, thanks\n",
      "I think you said: hello my name is Mor\n"
     ]
    }
   ],
   "source": [
    "import speech_recognition as sr \n",
    "r=sr.Recognizer() \n",
    "with sr.Microphone() as source:     \n",
    "    print(\"Please say something\")     \n",
    "    audio = r.listen(source)     \n",
    "    print(\"Time over, thanks\")     \n",
    "    try:         \n",
    "        print(\"I think you said: \"+r.recognize_google(audio));     \n",
    "    except:         \n",
    "        pass "
   ]
  }
 ],
 "metadata": {
  "kernelspec": {
   "display_name": "Python 3 (ipykernel)",
   "language": "python",
   "name": "python3"
  },
  "language_info": {
   "codemirror_mode": {
    "name": "ipython",
    "version": 3
   },
   "file_extension": ".py",
   "mimetype": "text/x-python",
   "name": "python",
   "nbconvert_exporter": "python",
   "pygments_lexer": "ipython3",
   "version": "3.12.4"
  }
 },
 "nbformat": 4,
 "nbformat_minor": 5
}
