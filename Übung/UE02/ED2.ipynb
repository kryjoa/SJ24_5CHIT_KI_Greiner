{
 "cells": [
  {
   "cell_type": "markdown",
   "id": "38eda6df-ef5a-41f8-93bc-cdab405a1e63",
   "metadata": {},
   "source": [
    "# Einfache Suche nach Zahlen"
   ]
  },
  {
   "cell_type": "code",
   "execution_count": 2,
   "id": "e01dde22-cb65-465f-94c4-e0e97979ae20",
   "metadata": {},
   "outputs": [
    {
     "name": "stdout",
     "output_type": "stream",
     "text": [
      "['5']\n"
     ]
    }
   ],
   "source": [
    "import re\n",
    "\n",
    "p = re.compile(\"5\")\n",
    "print(p.findall(\"Für 5 Semmeln habe ich 3.90€ bezahlt.\"))"
   ]
  },
  {
   "cell_type": "code",
   "execution_count": 5,
   "id": "b6ca45aa-0431-40b0-bcd6-233367e986e0",
   "metadata": {},
   "outputs": [
    {
     "name": "stdout",
     "output_type": "stream",
     "text": [
      "['5', '3', '9', '0']\n"
     ]
    }
   ],
   "source": [
    "p = re.compile(\"[1234567890]\")\n",
    "print(p.findall(\"Für 5 Semmeln habe ich 3.90€ bezahlt.\"))"
   ]
  },
  {
   "cell_type": "code",
   "execution_count": 7,
   "id": "ca57f099-620f-482e-9faf-b03a6775628c",
   "metadata": {},
   "outputs": [
    {
     "name": "stdout",
     "output_type": "stream",
     "text": [
      "['5', '3', '9', '0']\n"
     ]
    }
   ],
   "source": [
    "p = re.compile(\"[0-9]\")\n",
    "print(p.findall(\"Für 5 Semmeln habe ich 3.90€ bezahlt.\"))"
   ]
  },
  {
   "cell_type": "code",
   "execution_count": 11,
   "id": "c0ff82f5-4287-4bf0-a302-cd63a8933676",
   "metadata": {},
   "outputs": [
    {
     "name": "stdout",
     "output_type": "stream",
     "text": [
      "[' 5 ']\n"
     ]
    }
   ],
   "source": [
    "p = re.compile(\" [0-9] \")\n",
    "print(p.findall(\"Für 5 Semmeln habe ich 3.90€ bezahlt.\"))"
   ]
  },
  {
   "cell_type": "code",
   "execution_count": 23,
   "id": "b75d6f5e-e9cf-452d-adaf-a7c3e11479e8",
   "metadata": {},
   "outputs": [
    {
     "name": "stdout",
     "output_type": "stream",
     "text": [
      "['3.90']\n"
     ]
    }
   ],
   "source": [
    "p = re.compile(\"[0-9]\\\\.[0-9][0-9]\")\n",
    "print(p.findall(\"Für 5 Semmeln habe ich 3.90€ bezahlt.\"))"
   ]
  },
  {
   "cell_type": "code",
   "execution_count": 86,
   "id": "0483322f-d2bd-4c87-aa09-313d6f9e664b",
   "metadata": {},
   "outputs": [
    {
     "name": "stdout",
     "output_type": "stream",
     "text": [
      "['3.90€']\n",
      "['3.90$']\n"
     ]
    }
   ],
   "source": [
    "p = re.compile(\"[0-9]\\\\.[0-9][0-9][€$]\")\n",
    "print(p.findall(\"Für 5 Semmeln habe ich 3.90€ bezahlt.\"))\n",
    "print(p.findall(\"Für 5 Semmeln habe ich 3.90$ bezahlt.\"))"
   ]
  },
  {
   "cell_type": "code",
   "execution_count": 15,
   "id": "52d1b6b8-bacf-4358-8016-b2daa2a0db80",
   "metadata": {},
   "outputs": [
    {
     "name": "stdout",
     "output_type": "stream",
     "text": [
      "[' 5 ']\n",
      "[]\n",
      "[]\n"
     ]
    }
   ],
   "source": [
    "p = re.compile(\" [0-9] \")\n",
    "print(p.findall(\"Für 5 Semmeln habe ich 3.90€ bezahlt.\"))\n",
    "print(p.findall(\"Für 15 Semmeln habe ich 19.50€ bezahlt.\"))\n",
    "print(p.findall(\"Für 150 Semmeln habe ich 195.00€ bezahlt.\"))"
   ]
  },
  {
   "cell_type": "code",
   "execution_count": 19,
   "id": "d78839c5-bf48-4509-ad86-0da54c1938ad",
   "metadata": {},
   "outputs": [
    {
     "name": "stdout",
     "output_type": "stream",
     "text": [
      "[]\n",
      "[]\n",
      "[' 150 ']\n"
     ]
    }
   ],
   "source": [
    "p = re.compile(\" [0-9][0-9][0-9] \")\n",
    "print(p.findall(\"Für 5 Semmeln habe ich 3.90€ bezahlt.\"))\n",
    "print(p.findall(\"Für 15 Semmeln habe ich 19.50€ bezahlt.\"))\n",
    "print(p.findall(\"Für 150 Semmeln habe ich 195.00€ bezahlt.\"))"
   ]
  },
  {
   "cell_type": "code",
   "execution_count": 21,
   "id": "dc00db83-c474-46fb-b932-f9d84f82b67c",
   "metadata": {},
   "outputs": [
    {
     "name": "stdout",
     "output_type": "stream",
     "text": [
      "[' 5 ']\n",
      "[' 15 ']\n",
      "[' 150 ']\n"
     ]
    }
   ],
   "source": [
    "p = re.compile(\" [0-9]+ \")\n",
    "print(p.findall(\"Für 5 Semmeln habe ich 3.90€ bezahlt.\"))\n",
    "print(p.findall(\"Für 15 Semmeln habe ich 19.50€ bezahlt.\"))\n",
    "print(p.findall(\"Für 150 Semmeln habe ich 195.00€ bezahlt.\"))"
   ]
  },
  {
   "cell_type": "code",
   "execution_count": 33,
   "id": "8b620248-744a-4d11-aab2-034002cee50f",
   "metadata": {},
   "outputs": [
    {
     "name": "stdout",
     "output_type": "stream",
     "text": [
      "[' 3.90€ ']\n",
      "[' 19.50$ ']\n",
      "[' 195.00$ ']\n"
     ]
    }
   ],
   "source": [
    "p = re.compile(\" [0-9]+\\\\.[0-9][0-9][€$] \")\n",
    "print(p.findall(\"Für 5 Semmeln habe ich 3.90€ bezahlt.\"))\n",
    "print(p.findall(\"Für 15 Semmeln habe ich 19.50$ bezahlt.\"))\n",
    "print(p.findall(\"Für 150 Semmeln habe ich 195.00$ bezahlt.\"))"
   ]
  },
  {
   "cell_type": "code",
   "execution_count": 35,
   "id": "4e7a92ac-6b0c-43f7-9659-a799da74fef2",
   "metadata": {},
   "outputs": [
    {
     "name": "stdout",
     "output_type": "stream",
     "text": [
      "[' 3.90€ ']\n",
      "[' 19.50$ ']\n",
      "[' 195.00$ ']\n"
     ]
    }
   ],
   "source": [
    "p = re.compile(\" [0-9]+\\\\.[0-9]{2}[€$] \")\n",
    "print(p.findall(\"Für 5 Semmeln habe ich 3.90€ bezahlt.\"))\n",
    "print(p.findall(\"Für 15 Semmeln habe ich 19.50$ bezahlt.\"))\n",
    "print(p.findall(\"Für 150 Semmeln habe ich 195.00$ bezahlt.\"))"
   ]
  },
  {
   "cell_type": "code",
   "execution_count": 83,
   "id": "6e32e704-4de3-4b7c-8912-f484e003cdb6",
   "metadata": {},
   "outputs": [
    {
     "name": "stdout",
     "output_type": "stream",
     "text": [
      "[' 3.90€ ']\n",
      "[' 19.50$ ']\n",
      "[' 190,50 ']\n"
     ]
    }
   ],
   "source": [
    "p = re.compile(\" [0-9]+[.,][0-9]{2}[€$]? \")\n",
    "print(p.findall(\"Für 5 Semmeln habe ich 3.90€ bezahlt.\"))\n",
    "print(p.findall(\"Für 15 Semmeln habe ich 19.50$ bezahlt.\"))\n",
    "print(p.findall(\"Für 150 Semmeln habe ich 190,50 bezahlt.\")) "
   ]
  },
  {
   "cell_type": "markdown",
   "id": "eb8e41ed-dc1a-4cb1-bc47-0fc1c57743d3",
   "metadata": {},
   "source": [
    "# Suche nach einem String"
   ]
  },
  {
   "cell_type": "markdown",
   "id": "666cf8d8-11ba-4ffa-96cd-fbbc602f8a60",
   "metadata": {},
   "source": [
    "### 3.6"
   ]
  },
  {
   "cell_type": "code",
   "execution_count": 111,
   "id": "2f0da61f-5738-4eff-8f42-6ba7becfef18",
   "metadata": {},
   "outputs": [
    {
     "name": "stdout",
     "output_type": "stream",
     "text": [
      "['office@htlkrems.at']\n"
     ]
    }
   ],
   "source": [
    "# Bibliotheken laden\n",
    "import urllib.request as urllib2\n",
    "from bs4 import BeautifulSoup\n",
    "import csv\n",
    "\n",
    "# Website laden\n",
    "response = urllib2.urlopen('https://www.htlkrems.ac.at')\n",
    "html_doc = response.read()\n",
    "\n",
    "# Das BeautifulSoup Object soup repräsentiert das „geparste“ HTML-Dokument\n",
    "soup = BeautifulSoup(html_doc, 'html.parser')\n",
    "\n",
    "# Das „geparste“ HTML-Dokument formatieren, sodass jeder Tag bzw. Textblock\n",
    "# in einer separaten Zeile ausgegeben wird\n",
    "strhtm = soup.prettify()\n",
    "\n",
    "p = re.compile(\"\\\\w+@\\\\w+\\\\.at\")\n",
    "email = (p.findall(strhtm))\n",
    "\n",
    "with open('email.csv', mode='w', newline='') as file:\n",
    "    csvwriter = csv.writer(file)\n",
    "    csvwriter.writerow([\"Email\"])\n",
    "    csvwriter.writerow(email)\n",
    "\n",
    "print(email)"
   ]
  },
  {
   "cell_type": "markdown",
   "id": "02463d28-c9d6-4421-9bef-99998bce8655",
   "metadata": {},
   "source": [
    "### 3.7"
   ]
  },
  {
   "cell_type": "code",
   "execution_count": 118,
   "id": "d24d81d8-46a1-44c4-87ca-086866b45dcb",
   "metadata": {},
   "outputs": [
    {
     "ename": "TypeError",
     "evalue": "unhashable type: 'list'",
     "output_type": "error",
     "traceback": [
      "\u001b[1;31m---------------------------------------------------------------------------\u001b[0m",
      "\u001b[1;31mTypeError\u001b[0m                                 Traceback (most recent call last)",
      "Cell \u001b[1;32mIn[118], line 15\u001b[0m\n\u001b[0;32m     12\u001b[0m \u001b[38;5;66;03m# Liste von Schlüsselwörtern\u001b[39;00m\n\u001b[0;32m     13\u001b[0m keywords \u001b[38;5;241m=\u001b[39m [\u001b[38;5;124m'\u001b[39m\u001b[38;5;124mDeveloper\u001b[39m\u001b[38;5;124m'\u001b[39m, \u001b[38;5;124m'\u001b[39m\u001b[38;5;124mEntwickler\u001b[39m\u001b[38;5;124m'\u001b[39m, \u001b[38;5;124m'\u001b[39m\u001b[38;5;124mEntwicklung\u001b[39m\u001b[38;5;124m'\u001b[39m, \u001b[38;5;124m'\u001b[39m\u001b[38;5;124mSoftwareentwickler\u001b[39m\u001b[38;5;124m'\u001b[39m, \u001b[38;5;124m'\u001b[39m\u001b[38;5;124mProgrammierer\u001b[39m\u001b[38;5;124m'\u001b[39m] \n\u001b[1;32m---> 15\u001b[0m p \u001b[38;5;241m=\u001b[39m re\u001b[38;5;241m.\u001b[39mcompile(keywords)\n\u001b[0;32m     16\u001b[0m email \u001b[38;5;241m=\u001b[39m (p\u001b[38;5;241m.\u001b[39mfindall(strhtm))\n\u001b[0;32m     18\u001b[0m \u001b[38;5;28;01mwith\u001b[39;00m \u001b[38;5;28mopen\u001b[39m(\u001b[38;5;124m'\u001b[39m\u001b[38;5;124memail.csv\u001b[39m\u001b[38;5;124m'\u001b[39m, mode\u001b[38;5;241m=\u001b[39m\u001b[38;5;124m'\u001b[39m\u001b[38;5;124mw\u001b[39m\u001b[38;5;124m'\u001b[39m, newline\u001b[38;5;241m=\u001b[39m\u001b[38;5;124m'\u001b[39m\u001b[38;5;124m'\u001b[39m) \u001b[38;5;28;01mas\u001b[39;00m file:\n",
      "File \u001b[1;32m~\\anaconda3\\Lib\\re\\__init__.py:228\u001b[0m, in \u001b[0;36mcompile\u001b[1;34m(pattern, flags)\u001b[0m\n\u001b[0;32m    226\u001b[0m \u001b[38;5;28;01mdef\u001b[39;00m \u001b[38;5;21mcompile\u001b[39m(pattern, flags\u001b[38;5;241m=\u001b[39m\u001b[38;5;241m0\u001b[39m):\n\u001b[0;32m    227\u001b[0m     \u001b[38;5;124m\"\u001b[39m\u001b[38;5;124mCompile a regular expression pattern, returning a Pattern object.\u001b[39m\u001b[38;5;124m\"\u001b[39m\n\u001b[1;32m--> 228\u001b[0m     \u001b[38;5;28;01mreturn\u001b[39;00m _compile(pattern, flags)\n",
      "File \u001b[1;32m~\\anaconda3\\Lib\\re\\__init__.py:285\u001b[0m, in \u001b[0;36m_compile\u001b[1;34m(pattern, flags)\u001b[0m\n\u001b[0;32m    283\u001b[0m     flags \u001b[38;5;241m=\u001b[39m flags\u001b[38;5;241m.\u001b[39mvalue\n\u001b[0;32m    284\u001b[0m \u001b[38;5;28;01mtry\u001b[39;00m:\n\u001b[1;32m--> 285\u001b[0m     \u001b[38;5;28;01mreturn\u001b[39;00m _cache2[\u001b[38;5;28mtype\u001b[39m(pattern), pattern, flags]\n\u001b[0;32m    286\u001b[0m \u001b[38;5;28;01mexcept\u001b[39;00m \u001b[38;5;167;01mKeyError\u001b[39;00m:\n\u001b[0;32m    287\u001b[0m     \u001b[38;5;28;01mpass\u001b[39;00m\n",
      "\u001b[1;31mTypeError\u001b[0m: unhashable type: 'list'"
     ]
    }
   ],
   "source": [
    "# Website laden\n",
    "response = urllib2.urlopen('https://www.htlkrems.ac.at/jobs/')\n",
    "html_doc = response.read()\n",
    "\n",
    "# Das BeautifulSoup Object soup repräsentiert das „geparste“ HTML-Dokument\n",
    "soup = BeautifulSoup(html_doc, 'html.parser')\n",
    "\n",
    "# Das „geparste“ HTML-Dokument formatieren, sodass jeder Tag bzw. Textblock\n",
    "# in einer separaten Zeile ausgegeben wird\n",
    "strhtm = soup.prettify()\n",
    "\n",
    "# Liste von Schlüsselwörtern\n",
    "keywords = ['Developer', 'Entwickler', 'Entwicklung', 'Softwareentwickler', 'Programmierer'] \n",
    "\n",
    "p = re.compile(keywords)\n",
    "email = (p.findall(strhtm))\n",
    "\n",
    "with open('email.csv', mode='w', newline='') as file:\n",
    "    csvwriter = csv.writer(file)\n",
    "    csvwriter.writerow([\"Email\"])\n",
    "    csvwriter.writerow(email)\n",
    "\n",
    "print(email)"
   ]
  }
 ],
 "metadata": {
  "kernelspec": {
   "display_name": "Python 3 (ipykernel)",
   "language": "python",
   "name": "python3"
  },
  "language_info": {
   "codemirror_mode": {
    "name": "ipython",
    "version": 3
   },
   "file_extension": ".py",
   "mimetype": "text/x-python",
   "name": "python",
   "nbconvert_exporter": "python",
   "pygments_lexer": "ipython3",
   "version": "3.12.4"
  }
 },
 "nbformat": 4,
 "nbformat_minor": 5
}
