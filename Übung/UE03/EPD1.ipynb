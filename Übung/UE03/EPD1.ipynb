{
 "cells": [
  {
   "cell_type": "markdown",
   "id": "59bf9574-4303-4628-862a-1ad85a6a8ead",
   "metadata": {},
   "source": [
    "# Exploring and Processing Data "
   ]
  },
  {
   "cell_type": "code",
   "execution_count": 59,
   "id": "0a00e7cf-2519-46a2-885b-f8aebeca702a",
   "metadata": {},
   "outputs": [],
   "source": [
    "import re\n",
    "import pandas as pd\n",
    "\n",
    "tweets=[    \n",
    "    'This is introduction to NLP',\n",
    "    'It is likely to be useful, to people ',\n",
    "    'Machine learning is the new electrcity', \n",
    "    'There would be less hype around AI and more action going forward',\n",
    "    'python is the best tool!','R is good langauage',\n",
    "    'I like this book','I want more books like this' \n",
    "] "
   ]
  },
  {
   "cell_type": "markdown",
   "id": "cf144568-d0f7-4306-933b-26089edf4637",
   "metadata": {},
   "source": [
    "## 3.2"
   ]
  },
  {
   "cell_type": "code",
   "execution_count": 81,
   "id": "4de29e1b-c8d2-47d9-9931-f9e2adbbdb38",
   "metadata": {},
   "outputs": [
    {
     "data": {
      "text/html": [
       "<div>\n",
       "<style scoped>\n",
       "    .dataframe tbody tr th:only-of-type {\n",
       "        vertical-align: middle;\n",
       "    }\n",
       "\n",
       "    .dataframe tbody tr th {\n",
       "        vertical-align: top;\n",
       "    }\n",
       "\n",
       "    .dataframe thead th {\n",
       "        text-align: right;\n",
       "    }\n",
       "</style>\n",
       "<table border=\"1\" class=\"dataframe\">\n",
       "  <thead>\n",
       "    <tr style=\"text-align: right;\">\n",
       "      <th></th>\n",
       "      <th>tweets</th>\n",
       "    </tr>\n",
       "  </thead>\n",
       "  <tbody>\n",
       "    <tr>\n",
       "      <th>0</th>\n",
       "      <td>this is introduction to nlp</td>\n",
       "    </tr>\n",
       "    <tr>\n",
       "      <th>1</th>\n",
       "      <td>it is likely to be useful, to people</td>\n",
       "    </tr>\n",
       "    <tr>\n",
       "      <th>2</th>\n",
       "      <td>machine learning is the new electrcity</td>\n",
       "    </tr>\n",
       "    <tr>\n",
       "      <th>3</th>\n",
       "      <td>there would be less hype around ai and more ac...</td>\n",
       "    </tr>\n",
       "    <tr>\n",
       "      <th>4</th>\n",
       "      <td>python is the best tool!</td>\n",
       "    </tr>\n",
       "    <tr>\n",
       "      <th>5</th>\n",
       "      <td>r is good langauage</td>\n",
       "    </tr>\n",
       "    <tr>\n",
       "      <th>6</th>\n",
       "      <td>i like this book</td>\n",
       "    </tr>\n",
       "    <tr>\n",
       "      <th>7</th>\n",
       "      <td>i want more books like this</td>\n",
       "    </tr>\n",
       "  </tbody>\n",
       "</table>\n",
       "</div>"
      ],
      "text/plain": [
       "                                              tweets\n",
       "0                        this is introduction to nlp\n",
       "1              it is likely to be useful, to people \n",
       "2             machine learning is the new electrcity\n",
       "3  there would be less hype around ai and more ac...\n",
       "4                           python is the best tool!\n",
       "5                                r is good langauage\n",
       "6                                   i like this book\n",
       "7                        i want more books like this"
      ]
     },
     "execution_count": 81,
     "metadata": {},
     "output_type": "execute_result"
    }
   ],
   "source": [
    "tweets_lowercase = [tweet.lower() for tweet in tweets]\n",
    "\n",
    "df = pd.DataFrame(tweets_lowercase, columns=['tweets'])\n",
    "\n",
    "df"
   ]
  },
  {
   "cell_type": "markdown",
   "id": "a3362288-1fc7-4196-b08c-019efcf0914c",
   "metadata": {},
   "source": [
    "## 3.3"
   ]
  },
  {
   "cell_type": "code",
   "execution_count": 79,
   "id": "6f918c68-cebf-47d8-8ed5-ad0c9541ce53",
   "metadata": {},
   "outputs": [
    {
     "data": {
      "text/html": [
       "<div>\n",
       "<style scoped>\n",
       "    .dataframe tbody tr th:only-of-type {\n",
       "        vertical-align: middle;\n",
       "    }\n",
       "\n",
       "    .dataframe tbody tr th {\n",
       "        vertical-align: top;\n",
       "    }\n",
       "\n",
       "    .dataframe thead th {\n",
       "        text-align: right;\n",
       "    }\n",
       "</style>\n",
       "<table border=\"1\" class=\"dataframe\">\n",
       "  <thead>\n",
       "    <tr style=\"text-align: right;\">\n",
       "      <th></th>\n",
       "      <th>tweets</th>\n",
       "    </tr>\n",
       "  </thead>\n",
       "  <tbody>\n",
       "    <tr>\n",
       "      <th>0</th>\n",
       "      <td>this is introduction to nlp</td>\n",
       "    </tr>\n",
       "    <tr>\n",
       "      <th>1</th>\n",
       "      <td>it is likely to be useful to people</td>\n",
       "    </tr>\n",
       "    <tr>\n",
       "      <th>2</th>\n",
       "      <td>machine learning is the new electrcity</td>\n",
       "    </tr>\n",
       "    <tr>\n",
       "      <th>3</th>\n",
       "      <td>there would be less hype around ai and more ac...</td>\n",
       "    </tr>\n",
       "    <tr>\n",
       "      <th>4</th>\n",
       "      <td>python is the best tool</td>\n",
       "    </tr>\n",
       "    <tr>\n",
       "      <th>5</th>\n",
       "      <td>r is good langauage</td>\n",
       "    </tr>\n",
       "    <tr>\n",
       "      <th>6</th>\n",
       "      <td>i like this book</td>\n",
       "    </tr>\n",
       "    <tr>\n",
       "      <th>7</th>\n",
       "      <td>i want more books like this</td>\n",
       "    </tr>\n",
       "  </tbody>\n",
       "</table>\n",
       "</div>"
      ],
      "text/plain": [
       "                                              tweets\n",
       "0                        this is introduction to nlp\n",
       "1               it is likely to be useful to people \n",
       "2             machine learning is the new electrcity\n",
       "3  there would be less hype around ai and more ac...\n",
       "4                            python is the best tool\n",
       "5                                r is good langauage\n",
       "6                                   i like this book\n",
       "7                        i want more books like this"
      ]
     },
     "execution_count": 79,
     "metadata": {},
     "output_type": "execute_result"
    }
   ],
   "source": [
    "tweets_no_punctuation = [re.sub('[^\\\\w\\\\s]', '', tweet) for tweet in tweets_lowercase]\n",
    "\n",
    "df = pd.DataFrame(tweets_no_punctuation, columns=['tweets'])\n",
    "\n",
    "df"
   ]
  },
  {
   "cell_type": "code",
   "execution_count": 77,
   "id": "0b06b967-1ab5-4953-ade0-9c08354227be",
   "metadata": {},
   "outputs": [
    {
     "data": {
      "text/plain": [
       "['This',\n",
       " 'is',\n",
       " 'the',\n",
       " 'first',\n",
       " 'sentence.',\n",
       " 'This',\n",
       " 'is',\n",
       " 'the',\n",
       " 'second',\n",
       " 'one.']"
      ]
     },
     "execution_count": 77,
     "metadata": {},
     "output_type": "execute_result"
    }
   ],
   "source": [
    "text = \"This is the first sentence. This is the second one.\"  \n",
    "list_of_words = text.split()  \n",
    "list_of_words  "
   ]
  },
  {
   "cell_type": "code",
   "execution_count": 92,
   "id": "463fbca1-b863-41c7-8a1d-6d1bd9644a25",
   "metadata": {},
   "outputs": [
    {
     "name": "stdout",
     "output_type": "stream",
     "text": [
      "['Hello', 'there', '!', 'Welcome', 'to', 'the', 'programming', 'world', '.']\n"
     ]
    }
   ],
   "source": [
    "import nltk\n",
    "from nltk.tokenize import word_tokenize \n",
    "text=\"Hello there! Welcome to the programming world.\" \n",
    "print(word_tokenize(text)) "
   ]
  },
  {
   "cell_type": "markdown",
   "id": "699dd5ac-9f5e-4aa5-8d54-cb550f4c3185",
   "metadata": {},
   "source": [
    "## 3.5"
   ]
  },
  {
   "cell_type": "code",
   "execution_count": 97,
   "id": "10bdeab9-d1b0-4a90-be8f-9fde0c7db288",
   "metadata": {},
   "outputs": [
    {
     "data": {
      "text/html": [
       "<div>\n",
       "<style scoped>\n",
       "    .dataframe tbody tr th:only-of-type {\n",
       "        vertical-align: middle;\n",
       "    }\n",
       "\n",
       "    .dataframe tbody tr th {\n",
       "        vertical-align: top;\n",
       "    }\n",
       "\n",
       "    .dataframe thead th {\n",
       "        text-align: right;\n",
       "    }\n",
       "</style>\n",
       "<table border=\"1\" class=\"dataframe\">\n",
       "  <thead>\n",
       "    <tr style=\"text-align: right;\">\n",
       "      <th></th>\n",
       "      <th>tweets</th>\n",
       "      <th>tokenized</th>\n",
       "    </tr>\n",
       "  </thead>\n",
       "  <tbody>\n",
       "    <tr>\n",
       "      <th>0</th>\n",
       "      <td>this is introduction to nlp</td>\n",
       "      <td>[this, is, introduction, to, nlp]</td>\n",
       "    </tr>\n",
       "    <tr>\n",
       "      <th>1</th>\n",
       "      <td>it is likely to be useful, to people</td>\n",
       "      <td>[it, is, likely, to, be, useful, ,, to, people]</td>\n",
       "    </tr>\n",
       "    <tr>\n",
       "      <th>2</th>\n",
       "      <td>machine learning is the new electrcity</td>\n",
       "      <td>[machine, learning, is, the, new, electrcity]</td>\n",
       "    </tr>\n",
       "    <tr>\n",
       "      <th>3</th>\n",
       "      <td>there would be less hype around ai and more ac...</td>\n",
       "      <td>[there, would, be, less, hype, around, ai, and...</td>\n",
       "    </tr>\n",
       "    <tr>\n",
       "      <th>4</th>\n",
       "      <td>python is the best tool!</td>\n",
       "      <td>[python, is, the, best, tool, !]</td>\n",
       "    </tr>\n",
       "    <tr>\n",
       "      <th>5</th>\n",
       "      <td>r is good langauage</td>\n",
       "      <td>[r, is, good, langauage]</td>\n",
       "    </tr>\n",
       "    <tr>\n",
       "      <th>6</th>\n",
       "      <td>i like this book</td>\n",
       "      <td>[i, like, this, book]</td>\n",
       "    </tr>\n",
       "    <tr>\n",
       "      <th>7</th>\n",
       "      <td>i want more books like this</td>\n",
       "      <td>[i, want, more, books, like, this]</td>\n",
       "    </tr>\n",
       "  </tbody>\n",
       "</table>\n",
       "</div>"
      ],
      "text/plain": [
       "                                              tweets  \\\n",
       "0                        this is introduction to nlp   \n",
       "1              it is likely to be useful, to people    \n",
       "2             machine learning is the new electrcity   \n",
       "3  there would be less hype around ai and more ac...   \n",
       "4                           python is the best tool!   \n",
       "5                                r is good langauage   \n",
       "6                                   i like this book   \n",
       "7                        i want more books like this   \n",
       "\n",
       "                                           tokenized  \n",
       "0                  [this, is, introduction, to, nlp]  \n",
       "1    [it, is, likely, to, be, useful, ,, to, people]  \n",
       "2      [machine, learning, is, the, new, electrcity]  \n",
       "3  [there, would, be, less, hype, around, ai, and...  \n",
       "4                   [python, is, the, best, tool, !]  \n",
       "5                           [r, is, good, langauage]  \n",
       "6                              [i, like, this, book]  \n",
       "7                 [i, want, more, books, like, this]  "
      ]
     },
     "execution_count": 97,
     "metadata": {},
     "output_type": "execute_result"
    }
   ],
   "source": [
    "df['tokenized'] = df['tweets'].apply(word_tokenize)\n",
    "df"
   ]
  }
 ],
 "metadata": {
  "kernelspec": {
   "display_name": "Python 3 (ipykernel)",
   "language": "python",
   "name": "python3"
  },
  "language_info": {
   "codemirror_mode": {
    "name": "ipython",
    "version": 3
   },
   "file_extension": ".py",
   "mimetype": "text/x-python",
   "name": "python",
   "nbconvert_exporter": "python",
   "pygments_lexer": "ipython3",
   "version": "3.12.4"
  }
 },
 "nbformat": 4,
 "nbformat_minor": 5
}
